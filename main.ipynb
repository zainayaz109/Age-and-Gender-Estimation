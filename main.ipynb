{
 "cells": [
  {
   "cell_type": "code",
   "execution_count": null,
   "id": "f21c44fc",
   "metadata": {},
   "outputs": [],
   "source": [
    "from main import age_gender_obj"
   ]
  },
  {
   "cell_type": "code",
   "execution_count": null,
   "id": "dce3df43",
   "metadata": {},
   "outputs": [],
   "source": [
    "import cv2"
   ]
  },
  {
   "cell_type": "code",
   "execution_count": null,
   "id": "0e6d6d6d",
   "metadata": {},
   "outputs": [],
   "source": [
    "img = cv2.imread('temp.png')"
   ]
  },
  {
   "cell_type": "code",
   "execution_count": null,
   "id": "4b7555b8",
   "metadata": {},
   "outputs": [],
   "source": [
    "age_gender_obj.run(img)"
   ]
  }
 ],
 "metadata": {
  "kernelspec": {
   "display_name": "test_env",
   "language": "python",
   "name": "test_env"
  },
  "language_info": {
   "codemirror_mode": {
    "name": "ipython",
    "version": 3
   },
   "file_extension": ".py",
   "mimetype": "text/x-python",
   "name": "python",
   "nbconvert_exporter": "python",
   "pygments_lexer": "ipython3",
   "version": "3.8.16"
  }
 },
 "nbformat": 4,
 "nbformat_minor": 5
}
